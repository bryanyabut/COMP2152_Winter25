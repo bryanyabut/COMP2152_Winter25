{
 "cells": [
  {
   "cell_type": "code",
   "execution_count": 2,
   "id": "f2a8fe93-5587-4cf8-b694-c64b7ee4517d",
   "metadata": {},
   "outputs": [
    {
     "data": {
      "text/plain": [
       "'\\nAUTHOR: BRYAN PAUL YABUT\\nASSIGNMENT 1\\n'"
      ]
     },
     "execution_count": 2,
     "metadata": {},
     "output_type": "execute_result"
    }
   ],
   "source": [
    "\"\"\"\n",
    "AUTHOR: BRYAN PAUL YABUT\n",
    "ASSIGNMENT 1\n",
    "\"\"\""
   ]
  },
  {
   "cell_type": "code",
   "execution_count": 4,
   "id": "a750da6d-ceaf-486d-a394-157b659f83d3",
   "metadata": {},
   "outputs": [],
   "source": [
    "gym_member = \"Alex Milton\" #GYM MEMBER\n",
    "\n",
    "preferred_weight = 20.5 #PREFERRED WEIGHT IN KG\n",
    "\n",
    "highest_reps = 25 # HIGHEST REPITITION\n",
    "\n",
    "membership_active = True #MEMBERSHIP STATUS ACTIVE"
   ]
  },
  {
   "cell_type": "code",
   "execution_count": 22,
   "id": "f582675a-21ec-4d91-9d3e-7d7262d4e98b",
   "metadata": {},
   "outputs": [],
   "source": [
    "workout_stats = {\n",
    "    \"Alex\": (30, 45, 100),\n",
    "    \"Jamie\": (10, 50, 35),\n",
    "    \"Taylor\": (5, 32, 21)\n",
    "}"
   ]
  },
  {
   "cell_type": "code",
   "execution_count": 54,
   "id": "f9d4e39a-ccd3-43cc-a8fe-18c35c0019e3",
   "metadata": {},
   "outputs": [
    {
     "name": "stdout",
     "output_type": "stream",
     "text": [
      "Alex_total: 175 minutes\n",
      "Jamie_total: 95 minutes\n",
      "Taylor_total: 58 minutes\n"
     ]
    }
   ],
   "source": [
    "total_w = {name: sum(workout_times) for name, workout_times in workout_stats.items()}\n",
    "\n",
    "for name, total in total_w.items():\n",
    "    print(f\"{name}_total: {total} minutes\")"
   ]
  },
  {
   "cell_type": "code",
   "execution_count": 55,
   "id": "2ff2237a-e1bd-45d2-96d0-cc4a4fb1adb9",
   "metadata": {},
   "outputs": [
    {
     "name": "stdout",
     "output_type": "stream",
     "text": [
      "Workout List: \n",
      "[30, 45, 100]\n",
      "[10, 50, 35]\n",
      "[5, 32, 21]\n"
     ]
    }
   ],
   "source": [
    "#List of dictionary where the tuples inside the dictionary is extracted\n",
    "workout_list = [list(workout_times) for workout_times in workout_stats.values()]\n",
    "\n",
    "print(\"Workout List: \")\n",
    "for row in workout_list:\n",
    "    print(row)"
   ]
  },
  {
   "cell_type": "code",
   "execution_count": 56,
   "id": "0353ee79-11ea-4511-bc75-15ef63347550",
   "metadata": {},
   "outputs": [
    {
     "name": "stdout",
     "output_type": "stream",
     "text": [
      "yoga and running for all friends: \n",
      "[30, 45]\n",
      "[10, 50]\n",
      "[5, 32]\n"
     ]
    }
   ],
   "source": [
    "#extracting the list of the 0 index and the 1 index of each inner list\n",
    "yoga_running_min = [row[:2] for row in workout_list]\n",
    "print(\"yoga and running for all friends: \")\n",
    "for row in yoga_running_min:\n",
    "    print(row)"
   ]
  },
  {
   "cell_type": "code",
   "execution_count": 57,
   "id": "ef5771ed-4c8a-4074-981f-e48c82a5acc6",
   "metadata": {},
   "outputs": [
    {
     "name": "stdout",
     "output_type": "stream",
     "text": [
      "Weightlifting Minutes of the Last Two Friends:\n",
      "35\n",
      "21\n"
     ]
    }
   ],
   "source": [
    "#slicing the last two row of the outer list and then getting the inner last two inner list\n",
    "weightlifting_last_two_f = [row[2] for row in workout_list[-2:]]\n",
    "print(\"Weightlifting Minutes of the Last Two Friends:\")\n",
    "for minutes in weightlifting_last_two_f:\n",
    "    print(minutes)"
   ]
  },
  {
   "cell_type": "code",
   "execution_count": 58,
   "id": "1303683b-7424-41dc-982b-e4dc4d7b7028",
   "metadata": {},
   "outputs": [
    {
     "name": "stdout",
     "output_type": "stream",
     "text": [
      "great job staying active, Alex\n",
      "do more workoutJamie\n",
      "do more workoutTaylor\n"
     ]
    }
   ],
   "source": [
    "for name, total in total_w.items():\n",
    "    if(total >= 120):\n",
    "        print(f\"great job staying active, {name}\")\n",
    "    else:\n",
    "        print(\"do more workout\" + name)\n",
    "    # print(f\"{name}_total: {total} minutes\")"
   ]
  },
  {
   "cell_type": "code",
   "execution_count": 59,
   "id": "2757207c-2c44-4f03-9d12-5150a6c71c7e",
   "metadata": {},
   "outputs": [
    {
     "name": "stdin",
     "output_type": "stream",
     "text": [
      "Type a name if the friend exist:  alex\n"
     ]
    },
    {
     "name": "stdout",
     "output_type": "stream",
     "text": [
      "Yoga: 30 minutes\n",
      "Running: 45 minutes\n",
      "Weight Lifting: 100 minutes\n",
      "Total Workout Minutes: 175\n"
     ]
    }
   ],
   "source": [
    "find_friend = input(\"Type a name if the friend exist: \")\n",
    "\n",
    "find_friend = find_friend.capitalize()\n",
    "\n",
    "if find_friend in workout_stats:\n",
    "    yoga, running, weightlifting = workout_stats[find_friend]\n",
    "    print(\"Yoga: \" + str(yoga) + \" minutes\")\n",
    "    print(\"Running: \" + str(running) + \" minutes\")\n",
    "    print(\"Weight Lifting: \" + str(weightlifting) + \" minutes\")\n",
    "\n",
    "    total_minutes = total_w[find_friend]\n",
    "    print(\"Total Workout Minutes: \" + str(total_minutes))\n",
    "\n",
    "else:\n",
    "    print(\"Friend \" + find_friend + \" \" + \"not found\")"
   ]
  },
  {
   "cell_type": "code",
   "execution_count": 67,
   "id": "3f195b81-3f4a-472e-ad36-d24593cc3c5a",
   "metadata": {},
   "outputs": [
    {
     "name": "stdout",
     "output_type": "stream",
     "text": [
      "Highest is Alex with total workout of 175\n"
     ]
    }
   ],
   "source": [
    "highest_friend_w = max(total_w, key=total_w.get)\n",
    "highest_total_w = total_w[highest_friend_w]\n",
    "print(\"Highest is \" + highest_friend_w + \" \" + \"with total workout of \" + str(highest_total_w))"
   ]
  },
  {
   "cell_type": "code",
   "execution_count": 68,
   "id": "80a6bd80-8fab-4251-b684-1056137074f4",
   "metadata": {},
   "outputs": [
    {
     "name": "stdout",
     "output_type": "stream",
     "text": [
      "Lowest is Taylor with total workout of 58\n"
     ]
    }
   ],
   "source": [
    "minimum_friend_w = min(total_w, key=total_w.get)\n",
    "minimum_total_w = total_w[minimum_friend_w]\n",
    "print(\"Lowest is \" + minimum_friend_w + \" \" + \"with total workout of \" + str(minimum_total_w))"
   ]
  }
 ],
 "metadata": {
  "kernelspec": {
   "display_name": "Python 3 (ipykernel)",
   "language": "python",
   "name": "python3"
  },
  "language_info": {
   "codemirror_mode": {
    "name": "ipython",
    "version": 3
   },
   "file_extension": ".py",
   "mimetype": "text/x-python",
   "name": "python",
   "nbconvert_exporter": "python",
   "pygments_lexer": "ipython3",
   "version": "3.9.21"
  }
 },
 "nbformat": 4,
 "nbformat_minor": 5
}
